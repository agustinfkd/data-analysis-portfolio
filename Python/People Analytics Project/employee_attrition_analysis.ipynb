{
 "cells": [
  {
   "cell_type": "markdown",
   "id": "ecdb0ad7",
   "metadata": {},
   "source": [
    "# Análisis de Rotación de Empleados – People Analytics\n",
    "\n",
    "Este proyecto explora posibles factores que influyen en la rotación de empleados utilizando un dataset de IBM.  \n",
    "Se analizan variables como el ingreso mensual, la satisfacción laboral, el desempeño y el departamento, con el objetivo de ofrecer información útil para la toma de decisiones en Recursos Humanos."
   ]
  },
  {
   "cell_type": "code",
   "execution_count": null,
   "id": "5953841e",
   "metadata": {},
   "outputs": [],
   "source": [
    "import pandas as pd\n",
    "import numpy as np\n",
    "import matplotlib.pyplot as plt\n",
    "import seaborn as sns\n",
    "import plotly.express as px\n",
    "\n",
    "# Configuración de estilo\n",
    "sns.set(style=\"whitegrid\")\n",
    "plt.rcParams[\"figure.figsize\"] = (10, 6)\n"
   ]
  },
  {
   "cell_type": "code",
   "execution_count": null,
   "id": "9a180473",
   "metadata": {},
   "outputs": [],
   "source": [
    "# Cargar el dataset\n",
    "df = pd.read_csv(\"WA_Fn-UseC_-HR-Employee-Attrition.csv\")\n",
    "\n",
    "# Mostrar las primeras filas\n",
    "df.head()\n"
   ]
  },
  {
   "cell_type": "code",
   "execution_count": null,
   "id": "54f2bdea",
   "metadata": {},
   "outputs": [],
   "source": [
    "# Verificar dimensiones del dataset\n",
    "print(\"Filas y columnas:\", df.shape)\n",
    "\n",
    "# Verificar tipos de datos\n",
    "df.info()\n",
    "\n",
    "# Revisar valores nulos\n",
    "print(\"\\nValores nulos por columna:\")\n",
    "print(df.isnull().sum())\n"
   ]
  },
  {
   "cell_type": "markdown",
   "id": "9fd668e6",
   "metadata": {},
   "source": [
    "## 1. Rotación general de empleados\n"
   ]
  },
  {
   "cell_type": "code",
   "execution_count": null,
   "id": "dec472c9",
   "metadata": {},
   "outputs": [],
   "source": [
    "# Conteo de empleados que se fueron vs se quedaron\n",
    "rotacion_counts = df[\"Attrition\"].value_counts()\n",
    "print(\"Conteo de empleados:\")\n",
    "print(rotacion_counts)\n",
    "\n",
    "# Porcentaje\n",
    "rotacion_percent = df[\"Attrition\"].value_counts(normalize=True) * 100\n",
    "print(\"\\nPorcentaje de rotación:\")\n",
    "print(rotacion_percent)\n"
   ]
  },
  {
   "cell_type": "code",
   "execution_count": null,
   "id": "bacf97eb",
   "metadata": {},
   "outputs": [],
   "source": [
    "# Gráfico de barras con Seaborn\n",
    "sns.countplot(data=df, x=\"Attrition\", hue=\"Attrition\", palette=\"Set2\")\n",
    "plt.title(\"Distribución general de rotación (Attrition)\")\n",
    "plt.xlabel(\"¿Empleado se fue?\")\n",
    "plt.ylabel(\"Cantidad\")\n",
    "plt.show()"
   ]
  },
  {
   "cell_type": "markdown",
   "id": "8b40563c",
   "metadata": {},
   "source": [
    "### Observaciones\n",
    "- El **~16%** de los empleados han dejado la empresa.\n",
    "- La mayoría permanece en sus puestos, pero esta tasa de rotación puede ser preocupante si afecta áreas clave o perfiles estratégicos.\n"
   ]
  },
  {
   "cell_type": "markdown",
   "id": "a5688927",
   "metadata": {},
   "source": [
    "## 2. Rotación vs Ingresos\n"
   ]
  },
  {
   "cell_type": "code",
   "execution_count": null,
   "id": "d4c952d7",
   "metadata": {},
   "outputs": [],
   "source": [
    "# Estadísticas de ingresos según rotación\n",
    "df.groupby(\"Attrition\")[\"MonthlyIncome\"].describe()\n"
   ]
  },
  {
   "cell_type": "code",
   "execution_count": null,
   "id": "9370fca2",
   "metadata": {},
   "outputs": [],
   "source": [
    "sns.boxplot(data=df, x=\"Attrition\", y=\"MonthlyIncome\", hue=\"Attrition\", palette=\"Set3\", dodge=False)\n",
    "plt.title(\"Distribución de ingresos mensuales según rotación\")\n",
    "plt.xlabel(\"¿Empleado se fue?\")\n",
    "plt.ylabel(\"Ingreso mensual\")\n",
    "plt.show()"
   ]
  },
  {
   "cell_type": "code",
   "execution_count": null,
   "id": "eb3eec6d",
   "metadata": {},
   "outputs": [],
   "source": [
    "# Histograma de ingresos separados por grupo de rotación\n",
    "sns.histplot(data=df, x=\"MonthlyIncome\", hue=\"Attrition\", kde=True, element=\"step\", stat=\"density\", common_norm=False)\n",
    "plt.title(\"Distribución del ingreso mensual según rotación\")\n",
    "plt.xlabel(\"Ingreso mensual\")\n",
    "plt.ylabel(\"Densidad\")\n",
    "plt.show()\n"
   ]
  },
  {
   "cell_type": "markdown",
   "id": "37ff999a",
   "metadata": {},
   "source": [
    "### Observaciones\n",
    "- Los empleados que se fueron tienden a tener ingresos ligeramente más bajos en promedio.\n",
    "- Sin embargo, también hay solapamiento: hay empleados con altos ingresos que se van, y bajos que se quedan.\n",
    "- Esto sugiere que el ingreso puede ser un **factor relevante**, pero no el único.\n"
   ]
  },
  {
   "cell_type": "markdown",
   "id": "ca614915",
   "metadata": {},
   "source": [
    "## 3. Rotación vs Satisfacción laboral\n"
   ]
  },
  {
   "cell_type": "code",
   "execution_count": null,
   "id": "096fdcd4",
   "metadata": {},
   "outputs": [],
   "source": [
    "# Promedio y estadísticas de satisfacción por grupo\n",
    "df.groupby(\"Attrition\")[\"JobSatisfaction\"].describe()\n"
   ]
  },
  {
   "cell_type": "code",
   "execution_count": null,
   "id": "7c0448e1",
   "metadata": {},
   "outputs": [],
   "source": [
    "# Tabla cruzada: rotación vs nivel de satisfacción (de 1 a 4)\n",
    "pd.crosstab(df[\"JobSatisfaction\"], df[\"Attrition\"], normalize='index') * 100\n"
   ]
  },
  {
   "cell_type": "code",
   "execution_count": null,
   "id": "34219045",
   "metadata": {},
   "outputs": [],
   "source": [
    "# Recuento de satisfacción según rotación\n",
    "sns.countplot(data=df, x=\"JobSatisfaction\", hue=\"Attrition\", palette=\"Set2\")\n",
    "plt.title(\"Nivel de satisfacción laboral según rotación\")\n",
    "plt.xlabel(\"Satisfacción laboral (1 = baja, 4 = alta)\")\n",
    "plt.ylabel(\"Cantidad de empleados\")\n",
    "plt.show()\n"
   ]
  },
  {
   "cell_type": "code",
   "execution_count": null,
   "id": "5a02fd6a",
   "metadata": {},
   "outputs": [],
   "source": [
    "sns.boxplot(data=df, x=\"Attrition\", y=\"JobSatisfaction\", hue=\"Attrition\", palette=\"Set3\", dodge=False)\n",
    "plt.title(\"Distribución de satisfacción laboral según rotación\")\n",
    "plt.xlabel(\"¿Empleado se fue?\")\n",
    "plt.ylabel(\"Satisfacción laboral\")\n",
    "plt.show()"
   ]
  },
  {
   "cell_type": "markdown",
   "id": "b872d433",
   "metadata": {},
   "source": [
    "### Observaciones\n",
    "- Los empleados con menor satisfacción laboral tienden a irse con mayor frecuencia.\n",
    "- La mayoría de los que se quedan reportan niveles de satisfacción entre 3 y 4.\n",
    "- Esto sugiere una **relación clara entre satisfacción laboral y rotación**.\n"
   ]
  },
  {
   "cell_type": "markdown",
   "id": "7fdb2e3b",
   "metadata": {},
   "source": [
    "## 4. Relación entre satisfacción laboral y desempeño\n"
   ]
  },
  {
   "cell_type": "code",
   "execution_count": null,
   "id": "e76e6be6",
   "metadata": {},
   "outputs": [],
   "source": [
    "# Ver la correlación numérica entre ambas variables\n",
    "correlacion = df[\"JobSatisfaction\"].corr(df[\"PerformanceRating\"])\n",
    "print(f\"Correlación entre satisfacción y desempeño: {correlacion:.2f}\")\n"
   ]
  },
  {
   "cell_type": "markdown",
   "id": "234e6d99",
   "metadata": {},
   "source": [
    "La correlación entre satisfacción y desempeño es nula (0.00), probablemente debido a la baja variabilidad en las evaluaciones de desempeño, ya que la mayoría de los empleados tienen un puntaje similar. Esto limita la capacidad de detectar una relación estadística significativa.\n"
   ]
  },
  {
   "cell_type": "code",
   "execution_count": null,
   "id": "0ec718f9",
   "metadata": {},
   "outputs": [],
   "source": [
    "# Añadir un poco de \"ruido\" para que no se solapen los puntos\n",
    "sns.stripplot(data=df, x=\"PerformanceRating\", y=\"JobSatisfaction\", hue=\"PerformanceRating\", \n",
    "              palette=\"coolwarm\", jitter=True, alpha=0.5, dodge=False, legend=False)\n",
    "plt.title(\"Satisfacción laboral vs. Desempeño\")\n",
    "plt.xlabel(\"Desempeño (1 a 4)\")\n",
    "plt.ylabel(\"Satisfacción laboral (1 a 4)\")\n",
    "plt.show()"
   ]
  },
  {
   "cell_type": "code",
   "execution_count": null,
   "id": "95e6ced5",
   "metadata": {},
   "outputs": [],
   "source": [
    "pd.crosstab(df[\"PerformanceRating\"], df[\"JobSatisfaction\"], normalize='index') * 100\n"
   ]
  },
  {
   "cell_type": "markdown",
   "id": "b90d2081",
   "metadata": {},
   "source": [
    "### Observaciones\n",
    "- No se observa una correlación fuerte entre satisfacción y desempeño.\n",
    "- Los empleados con alto desempeño no necesariamente están más satisfechos.\n",
    "- Esto puede indicar que **el reconocimiento o las condiciones laborales** son más importantes que el rendimiento en sí.\n"
   ]
  },
  {
   "cell_type": "markdown",
   "id": "0056d5b3",
   "metadata": {},
   "source": [
    "## 5. Rotación por Departamento\n"
   ]
  },
  {
   "cell_type": "code",
   "execution_count": null,
   "id": "5712d059",
   "metadata": {},
   "outputs": [],
   "source": [
    "# Conteo absoluto\n",
    "rotacion_departamento = pd.crosstab(df[\"Department\"], df[\"Attrition\"])\n",
    "print(rotacion_departamento)\n",
    "\n",
    "# Porcentaje de rotación dentro de cada departamento\n",
    "rotacion_percent = pd.crosstab(df[\"Department\"], df[\"Attrition\"], normalize='index') * 100\n",
    "print(\"\\nPorcentaje de rotación por departamento:\")\n",
    "print(rotacion_percent)\n"
   ]
  },
  {
   "cell_type": "code",
   "execution_count": null,
   "id": "68e406fe",
   "metadata": {},
   "outputs": [],
   "source": [
    "# Gráfico de barras con porcentaje de empleados que se fueron por departamento\n",
    "rotacion_percent[\"Yes\"].plot(kind=\"bar\", color=\"tomato\", edgecolor=\"black\")\n",
    "plt.title(\"Porcentaje de rotación por departamento\")\n",
    "plt.ylabel(\"% de empleados que se fueron\")\n",
    "plt.xlabel(\"Departamento\")\n",
    "plt.xticks(rotation=45)\n",
    "plt.ylim(0, 50)  # ajustable según tus datos\n",
    "plt.grid(axis='y', linestyle='--', alpha=0.7)\n",
    "plt.show()\n"
   ]
  },
  {
   "cell_type": "markdown",
   "id": "a069535c",
   "metadata": {},
   "source": [
    "### Observaciones\n",
    "- Algunos departamentos muestran una tasa de rotación mucho más alta que otros.\n",
    "- Identificar estos departamentos puede ayudar a enfocar acciones de retención más efectivas.\n"
   ]
  },
  {
   "cell_type": "markdown",
   "id": "d43c4f56",
   "metadata": {},
   "source": [
    "## 6. Conclusiones generales del análisis\n"
   ]
  },
  {
   "cell_type": "markdown",
   "id": "99aeede5",
   "metadata": {},
   "source": [
    "### Conclusiones generales\n",
    "\n",
    "- La tasa de rotación general es del ~16%, lo cual puede considerarse moderadamente alto.  \n",
    "- Los empleados con **menores ingresos** tienden a dejar la empresa con más frecuencia, lo que sugiere una posible relación entre salario y retención.\n",
    "- Existe una **clara relación entre la baja satisfacción laboral y la rotación**: los empleados menos satisfechos son los más propensos a irse.\n",
    "- No se encontró correlación significativa entre **satisfacción y desempeño**. Esto podría deberse a la falta de variabilidad en las evaluaciones de desempeño.\n",
    "- Algunos **departamentos presentan tasas de rotación más altas** que otros. Identificar y analizar estos focos puede ayudar a tomar decisiones estratégicas de retención.\n",
    "- En conjunto, los resultados destacan la importancia de **evaluar factores emocionales y económicos** para retener el talento dentro de una organización.\n"
   ]
  }
 ],
 "metadata": {
  "kernelspec": {
   "display_name": "Python 3",
   "language": "python",
   "name": "python3"
  },
  "language_info": {
   "codemirror_mode": {
    "name": "ipython",
    "version": 3
   },
   "file_extension": ".py",
   "mimetype": "text/x-python",
   "name": "python",
   "nbconvert_exporter": "python",
   "pygments_lexer": "ipython3",
   "version": "3.11.9"
  }
 },
 "nbformat": 4,
 "nbformat_minor": 5
}
